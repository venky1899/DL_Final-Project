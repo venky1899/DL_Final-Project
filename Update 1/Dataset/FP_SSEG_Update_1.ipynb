{
 "cells": [
  {
   "cell_type": "code",
   "execution_count": 31,
   "id": "9025894b",
   "metadata": {},
   "outputs": [],
   "source": [
    "%matplotlib inline\n",
    "\n",
    "import numpy as np\n",
    "import matplotlib\n",
    "import matplotlib.pyplot as plt"
   ]
  },
  {
   "cell_type": "code",
   "execution_count": 32,
   "id": "3faf8931",
   "metadata": {},
   "outputs": [],
   "source": [
    "import torch\n",
    "import torch.nn as nn\n",
    "from torchvision.datasets import ImageFolder\n",
    "from torchvision import models, transforms"
   ]
  },
  {
   "cell_type": "code",
   "execution_count": 33,
   "id": "d69a058b",
   "metadata": {},
   "outputs": [],
   "source": [
    "import torch.utils.data as data\n",
    "import torch.optim as optim\n",
    "\n",
    "import torchvision\n",
    "import torchvision.transforms as transforms\n",
    "from torch.utils.data import Dataset, DataLoader, random_split\n",
    "from torchvision.io import read_image, ImageReadMode, write_file, write_jpeg"
   ]
  },
  {
   "cell_type": "code",
   "execution_count": 489,
   "id": "def15ea6",
   "metadata": {},
   "outputs": [],
   "source": [
    "import pandas as pd\n",
    "import glob\n",
    "import os\n",
    "import PIL\n",
    "from PIL import Image\n",
    "import copy"
   ]
  },
  {
   "cell_type": "markdown",
   "id": "5f06f571",
   "metadata": {},
   "source": [
    "## Loading Dataset"
   ]
  },
  {
   "cell_type": "code",
   "execution_count": 41,
   "id": "f792f283",
   "metadata": {},
   "outputs": [],
   "source": [
    "voc_path = \"/Users/rajendrakumarvechalapu/Desktop/DL_2022/FP_Project/VOC_T\""
   ]
  },
  {
   "cell_type": "code",
   "execution_count": 120,
   "id": "b2bded24",
   "metadata": {},
   "outputs": [],
   "source": [
    "#index_path = \"/Users/rajendrakumarvechalapu/Desktop/DL_2022/FP_Project/VOC_T\""
   ]
  },
  {
   "cell_type": "code",
   "execution_count": 98,
   "id": "7953be11",
   "metadata": {},
   "outputs": [],
   "source": [
    "label_names = \"/class_names.txt\"\n",
    "input_images = \"/JPEGImages\"\n",
    "seg_masks = \"/SegmentationClassPNG\""
   ]
  },
  {
   "cell_type": "code",
   "execution_count": 99,
   "id": "af2a96db",
   "metadata": {},
   "outputs": [],
   "source": [
    "image_names = glob.glob(voc_path + input_images + \"/*\")\n",
    "mask_names = glob.glob(voc_path + seg_masks + \"/*\")"
   ]
  },
  {
   "cell_type": "code",
   "execution_count": 100,
   "id": "44c3880c",
   "metadata": {},
   "outputs": [],
   "source": [
    "#list to store image names into a dataframe\n",
    "image_index = []\n",
    "mask_index = []\n",
    "#loop through all image and mask names and extract each image's and mask's name and append it to a list\n",
    "for item in [image_names, mask_names]:\n",
    "    for i_names in item:\n",
    "        #get image name\n",
    "        img_name = os.path.basename(i_names)\n",
    "        if item == image_names:\n",
    "            image_index.append(img_name)\n",
    "        else:\n",
    "            mask_index.append(img_name)\n",
    "        #print(i_names)\n",
    "#storing the index in a dataframe\n",
    "df_index['image_index'] = pd.DataFrame(image_index)\n",
    "df_index['mask_index'] = pd.DataFrame(mask_index)"
   ]
  },
  {
   "cell_type": "code",
   "execution_count": 101,
   "id": "02660c79",
   "metadata": {},
   "outputs": [
    {
     "data": {
      "text/html": [
       "<div>\n",
       "<style scoped>\n",
       "    .dataframe tbody tr th:only-of-type {\n",
       "        vertical-align: middle;\n",
       "    }\n",
       "\n",
       "    .dataframe tbody tr th {\n",
       "        vertical-align: top;\n",
       "    }\n",
       "\n",
       "    .dataframe thead th {\n",
       "        text-align: right;\n",
       "    }\n",
       "</style>\n",
       "<table border=\"1\" class=\"dataframe\">\n",
       "  <thead>\n",
       "    <tr style=\"text-align: right;\">\n",
       "      <th></th>\n",
       "      <th>0</th>\n",
       "      <th>image_index</th>\n",
       "      <th>mask_index</th>\n",
       "    </tr>\n",
       "  </thead>\n",
       "  <tbody>\n",
       "    <tr>\n",
       "      <th>0</th>\n",
       "      <td>IMG_2978.jpg</td>\n",
       "      <td>IMG_2978.jpg</td>\n",
       "      <td>IMG_2777.png</td>\n",
       "    </tr>\n",
       "    <tr>\n",
       "      <th>1</th>\n",
       "      <td>IMG_2788.jpg</td>\n",
       "      <td>IMG_2788.jpg</td>\n",
       "      <td>IMG_2978.png</td>\n",
       "    </tr>\n",
       "    <tr>\n",
       "      <th>2</th>\n",
       "      <td>IMG_2950.jpg</td>\n",
       "      <td>IMG_2950.jpg</td>\n",
       "      <td>IMG_2944.png</td>\n",
       "    </tr>\n",
       "    <tr>\n",
       "      <th>3</th>\n",
       "      <td>IMG_2944.jpg</td>\n",
       "      <td>IMG_2944.jpg</td>\n",
       "      <td>IMG_2950.png</td>\n",
       "    </tr>\n",
       "    <tr>\n",
       "      <th>4</th>\n",
       "      <td>IMG_2777.jpg</td>\n",
       "      <td>IMG_2777.jpg</td>\n",
       "      <td>IMG_2788.png</td>\n",
       "    </tr>\n",
       "  </tbody>\n",
       "</table>\n",
       "</div>"
      ],
      "text/plain": [
       "              0   image_index    mask_index\n",
       "0  IMG_2978.jpg  IMG_2978.jpg  IMG_2777.png\n",
       "1  IMG_2788.jpg  IMG_2788.jpg  IMG_2978.png\n",
       "2  IMG_2950.jpg  IMG_2950.jpg  IMG_2944.png\n",
       "3  IMG_2944.jpg  IMG_2944.jpg  IMG_2950.png\n",
       "4  IMG_2777.jpg  IMG_2777.jpg  IMG_2788.png"
      ]
     },
     "execution_count": 101,
     "metadata": {},
     "output_type": "execute_result"
    }
   ],
   "source": [
    "df_index.head()\n",
    "#df_index.iloc[4, 0]"
   ]
  },
  {
   "cell_type": "code",
   "execution_count": 103,
   "id": "a372d937",
   "metadata": {},
   "outputs": [],
   "source": [
    "df_index.to_csv(\"/Users/rajendrakumarvechalapu/Desktop/DL_2022/FP_Project/VOC_T/index\")"
   ]
  },
  {
   "cell_type": "code",
   "execution_count": 430,
   "id": "0e0b191d",
   "metadata": {},
   "outputs": [],
   "source": [
    "#Custom Dataset\n",
    "class SegmentationDataset(Dataset):\n",
    "    def __init__(self, images_path, mask_path, index_path, label_names): \n",
    "        super(SegmentationDataset, self).__init__()\n",
    "        \n",
    "        self.images_path = images_path\n",
    "        self.mask_path = mask_path\n",
    "        self.index_path = index_path\n",
    "        self.label_names = label_names\n",
    "        self.index = pd.read_csv(self.index_path)\n",
    "        \n",
    "        self.transform = transforms.Compose([transforms.ToTensor(),\n",
    "                                                transforms.Normalize(mean=[0.485, 0.456, 0.406], std=[0.229, 0.224, 0.225])])\n",
    "        \n",
    "    def __len__(self):\n",
    "        length = len(self.index)\n",
    "        return length\n",
    "    \n",
    "    \n",
    "    def __getitem__(self, idx):\n",
    "        #here load image and do the transformatoin\n",
    "        input_image = Image.open(self.images_path + str(self.index.iloc[idx, 2]))\n",
    "        image = self.transform(input_image)\n",
    "        #img = im.convert('RGB')\n",
    "         \n",
    "        #labels_df = pd.read_csv(self.root_dir+\"labels\")\n",
    "        #price = torch.tensor(self.data['price_norm'][idx]) #to tensor\n",
    "        #price = price.type(torch.FloatTensor) #Converting from Double to Float\n",
    "        image_mask = Image.open(self.mask_path + str(self.index.iloc[idx, 3]))\n",
    "        pixel_ids = np.array(image_mask)\n",
    "        pixel_labels = torch.from_numpy(pixel_ids) #converting numpy array ids to tensor\n",
    "        labels_ohe = pixel_labels.long() #converting true labels to one hot encoding -- labels to probabilities\n",
    "        h, w = labels_ohe.size()\n",
    "        target = torch.zeros(9, h, w)\n",
    "        for l in range(8): #batch_size=8\n",
    "            lab_o = labels_ohe[l].long()\n",
    "            for c in range(9):\n",
    "                target[c][lab_o == c] = 1\n",
    "        #classes = [enumerate(self.label_names)\n",
    "        #classes = pd.DataFrame(class_labels)\n",
    "        classes = self.label_names\n",
    "        return image, pixel_labels, target, classes"
   ]
  },
  {
   "cell_type": "code",
   "execution_count": 431,
   "id": "8d28c8fe",
   "metadata": {},
   "outputs": [],
   "source": [
    "train_images_path = \"/Users/rajendrakumarvechalapu/Desktop/DL_2022/FP_Project/VOC_T/JPEGImages/\"\n",
    "mask_path = \"/Users/rajendrakumarvechalapu/Desktop/DL_2022/FP_Project/VOC_T/SegmentationClassPNG/\"\n",
    "index_path = \"/Users/rajendrakumarvechalapu/Desktop/DL_2022/FP_Project/VOC_T/index\"\n",
    "label_names = \"/Users/rajendrakumarvechalapu/Desktop/DL_2022/FP_Project/VOC_T/class_names\""
   ]
  },
  {
   "cell_type": "code",
   "execution_count": 432,
   "id": "aef47195",
   "metadata": {},
   "outputs": [
    {
     "data": {
      "text/plain": [
       "'IMG_2944.png'"
      ]
     },
     "execution_count": 432,
     "metadata": {},
     "output_type": "execute_result"
    }
   ],
   "source": [
    "image_index = pd.read_csv(index_path)\n",
    "image_index.iloc[2, 3]"
   ]
  },
  {
   "cell_type": "code",
   "execution_count": 433,
   "id": "2a90beca",
   "metadata": {},
   "outputs": [
    {
     "data": {
      "text/plain": [
       "torch.Size([224, 224])"
      ]
     },
     "execution_count": 433,
     "metadata": {},
     "output_type": "execute_result"
    }
   ],
   "source": [
    "image_mask = Image.open(mask_path + str(image_index.iloc[2, 3]))\n",
    "pix_ids = np.array(image_mask)\n",
    "pix_labels = torch.from_numpy(pix_ids)\n",
    "pix_labels.shape"
   ]
  },
  {
   "cell_type": "code",
   "execution_count": 457,
   "id": "53e6ce98",
   "metadata": {},
   "outputs": [],
   "source": [
    "#Instantiating SegmentationDataset class object\n",
    "training_dataset = SegmentationDataset(train_images_path, mask_path, index_path, label_names)"
   ]
  },
  {
   "cell_type": "code",
   "execution_count": 459,
   "id": "f3be3c6f",
   "metadata": {},
   "outputs": [],
   "source": [
    "train_data, valid_data = random_split(training_dataset, [0.9, 0.1], generator = torch.Generator().manual_seed(42))"
   ]
  },
  {
   "cell_type": "code",
   "execution_count": 460,
   "id": "af2b79a6",
   "metadata": {},
   "outputs": [],
   "source": [
    "#DataLoader\n",
    "train_loader = DataLoader(train_data, batch_size=8, shuffle=True)\n",
    "valid_loader = DataLoader(valid_data, batch_size=4, shuffle=True)"
   ]
  },
  {
   "cell_type": "code",
   "execution_count": 436,
   "id": "56d54d95",
   "metadata": {},
   "outputs": [],
   "source": [
    "img, lab, tar, nam = next(iter(train_loader))"
   ]
  },
  {
   "cell_type": "code",
   "execution_count": 464,
   "id": "33f2f89c",
   "metadata": {},
   "outputs": [],
   "source": [
    "imgv, labv, tarv, namv = next(iter(valid_loader))"
   ]
  },
  {
   "cell_type": "code",
   "execution_count": 439,
   "id": "6f05a6da",
   "metadata": {},
   "outputs": [],
   "source": [
    "img1, lab1, tar1, nam1 = training_dataset[1]"
   ]
  },
  {
   "cell_type": "code",
   "execution_count": 440,
   "id": "f73354c3",
   "metadata": {},
   "outputs": [
    {
     "data": {
      "text/plain": [
       "torch.Size([9, 224, 224])"
      ]
     },
     "execution_count": 440,
     "metadata": {},
     "output_type": "execute_result"
    }
   ],
   "source": [
    "tar1.size()"
   ]
  },
  {
   "cell_type": "code",
   "execution_count": 399,
   "id": "257d0bdd",
   "metadata": {},
   "outputs": [],
   "source": [
    "lab_o = lab[0].long()"
   ]
  },
  {
   "cell_type": "code",
   "execution_count": 400,
   "id": "d5e250d8",
   "metadata": {},
   "outputs": [],
   "source": [
    "lab_o = lab[0].long()\n",
    "h, w = lab_o.size()\n",
    "target = torch.zeros(9, h, w)\n",
    "for c in range(9):\n",
    "    target[c][lab_o == c] = 1"
   ]
  },
  {
   "cell_type": "code",
   "execution_count": 401,
   "id": "edceebf9",
   "metadata": {},
   "outputs": [
    {
     "data": {
      "text/plain": [
       "torch.Size([9, 224, 224])"
      ]
     },
     "execution_count": 401,
     "metadata": {},
     "output_type": "execute_result"
    }
   ],
   "source": [
    "target.size()"
   ]
  },
  {
   "cell_type": "code",
   "execution_count": 402,
   "id": "b8974b6a",
   "metadata": {},
   "outputs": [
    {
     "data": {
      "text/plain": [
       "array([0., 8.], dtype=float32)"
      ]
     },
     "execution_count": 402,
     "metadata": {},
     "output_type": "execute_result"
    }
   ],
   "source": [
    "l_uni = np.unique(lab[0])\n",
    "l_uni"
   ]
  },
  {
   "cell_type": "code",
   "execution_count": 195,
   "id": "7a8c1edb",
   "metadata": {},
   "outputs": [
    {
     "data": {
      "text/plain": [
       "'/Users/rajendrakumarvechalapu/Desktop/DL_2022/FP_Project/VOC_T/class_names'"
      ]
     },
     "execution_count": 195,
     "metadata": {},
     "output_type": "execute_result"
    }
   ],
   "source": [
    "nam[0]"
   ]
  },
  {
   "cell_type": "code",
   "execution_count": 201,
   "id": "3672d9f2",
   "metadata": {},
   "outputs": [
    {
     "data": {
      "text/html": [
       "<div>\n",
       "<style scoped>\n",
       "    .dataframe tbody tr th:only-of-type {\n",
       "        vertical-align: middle;\n",
       "    }\n",
       "\n",
       "    .dataframe tbody tr th {\n",
       "        vertical-align: top;\n",
       "    }\n",
       "\n",
       "    .dataframe thead th {\n",
       "        text-align: right;\n",
       "    }\n",
       "</style>\n",
       "<table border=\"1\" class=\"dataframe\">\n",
       "  <thead>\n",
       "    <tr style=\"text-align: right;\">\n",
       "      <th></th>\n",
       "      <th>class_names</th>\n",
       "      <th>label_id</th>\n",
       "    </tr>\n",
       "  </thead>\n",
       "  <tbody>\n",
       "    <tr>\n",
       "      <th>0</th>\n",
       "      <td>_background_</td>\n",
       "      <td>0</td>\n",
       "    </tr>\n",
       "    <tr>\n",
       "      <th>1</th>\n",
       "      <td>footpath</td>\n",
       "      <td>1</td>\n",
       "    </tr>\n",
       "    <tr>\n",
       "      <th>2</th>\n",
       "      <td>zebracrossing</td>\n",
       "      <td>2</td>\n",
       "    </tr>\n",
       "    <tr>\n",
       "      <th>3</th>\n",
       "      <td>vehicle</td>\n",
       "      <td>3</td>\n",
       "    </tr>\n",
       "    <tr>\n",
       "      <th>4</th>\n",
       "      <td>person</td>\n",
       "      <td>4</td>\n",
       "    </tr>\n",
       "    <tr>\n",
       "      <th>5</th>\n",
       "      <td>road</td>\n",
       "      <td>5</td>\n",
       "    </tr>\n",
       "    <tr>\n",
       "      <th>6</th>\n",
       "      <td>building</td>\n",
       "      <td>6</td>\n",
       "    </tr>\n",
       "    <tr>\n",
       "      <th>7</th>\n",
       "      <td>onion</td>\n",
       "      <td>7</td>\n",
       "    </tr>\n",
       "    <tr>\n",
       "      <th>8</th>\n",
       "      <td>tomato</td>\n",
       "      <td>8</td>\n",
       "    </tr>\n",
       "  </tbody>\n",
       "</table>\n",
       "</div>"
      ],
      "text/plain": [
       "     class_names  label_id\n",
       "0   _background_         0\n",
       "1       footpath         1\n",
       "2  zebracrossing         2\n",
       "3        vehicle         3\n",
       "4         person         4\n",
       "5           road         5\n",
       "6       building         6\n",
       "7          onion         7\n",
       "8         tomato         8"
      ]
     },
     "execution_count": 201,
     "metadata": {},
     "output_type": "execute_result"
    }
   ],
   "source": [
    "classes = pd.read_csv(\"/Users/rajendrakumarvechalapu/Desktop/DL_2022/FP_Project/VOC_T/class_names.txt\", header=None, names=['class_names'])\n",
    "classes['label_id']=classes.index\n",
    "classes"
   ]
  },
  {
   "cell_type": "code",
   "execution_count": 200,
   "id": "aa180af1",
   "metadata": {},
   "outputs": [
    {
     "data": {
      "text/plain": [
       "9"
      ]
     },
     "execution_count": 200,
     "metadata": {},
     "output_type": "execute_result"
    }
   ],
   "source": [
    "len(classes['label_id'])"
   ]
  },
  {
   "cell_type": "code",
   "execution_count": 4,
   "id": "836abdc9",
   "metadata": {},
   "outputs": [
    {
     "name": "stderr",
     "output_type": "stream",
     "text": [
      "Using cache found in /Users/rajendrakumarvechalapu/.cache/torch/hub/pytorch_vision_v0.10.0\n"
     ]
    }
   ],
   "source": [
    "model_coco = torch.hub.load('pytorch/vision:v0.10.0', 'fcn_resnet50', pretrained=True)"
   ]
  },
  {
   "cell_type": "code",
   "execution_count": 10,
   "id": "ecb73007",
   "metadata": {},
   "outputs": [
    {
     "name": "stderr",
     "output_type": "stream",
     "text": [
      "Downloading: \"https://download.pytorch.org/models/resnet50-11ad3fa6.pth\" to /Users/rajendrakumarvechalapu/.cache/torch/hub/checkpoints/resnet50-11ad3fa6.pth\n"
     ]
    },
    {
     "data": {
      "application/vnd.jupyter.widget-view+json": {
       "model_id": "f9a8f14012a04365a94c8eead0572775",
       "version_major": 2,
       "version_minor": 0
      },
      "text/plain": [
       "  0%|          | 0.00/97.8M [00:00<?, ?B/s]"
      ]
     },
     "metadata": {},
     "output_type": "display_data"
    }
   ],
   "source": [
    "model = models.resnet50(weights=models.ResNet50_Weights.DEFAULT)"
   ]
  },
  {
   "cell_type": "code",
   "execution_count": 208,
   "id": "22763d29",
   "metadata": {},
   "outputs": [],
   "source": [
    "from torchvision.io.image import read_image\n",
    "from torchvision.models.segmentation import fcn_resnet50, FCN_ResNet50_Weights\n",
    "from torchvision.transforms.functional import to_pil_image"
   ]
  },
  {
   "cell_type": "code",
   "execution_count": 209,
   "id": "1eac682b",
   "metadata": {},
   "outputs": [],
   "source": [
    "#Intializing the model with best available weights\n",
    "weights= FCN_ResNet50_Weights.DEFAULT\n",
    "model_fR = fcn_resnet50(weights=weights)"
   ]
  },
  {
   "cell_type": "code",
   "execution_count": 210,
   "id": "8eef2b85",
   "metadata": {},
   "outputs": [
    {
     "data": {
      "text/plain": [
       "'\"\"\\nfor name, param in model.named_parameters():\\n    print(name)\\n'"
      ]
     },
     "execution_count": 210,
     "metadata": {},
     "output_type": "execute_result"
    }
   ],
   "source": [
    "\"\"\"\"\"\n",
    "for name, param in model.named_parameters():\n",
    "    print(name)\n",
    "\"\"\"\"\""
   ]
  },
  {
   "cell_type": "code",
   "execution_count": 212,
   "id": "a11882d7",
   "metadata": {},
   "outputs": [],
   "source": [
    "for name, param in model_fR.named_parameters():\n",
    "    param.requires_grad=False"
   ]
  },
  {
   "cell_type": "code",
   "execution_count": 213,
   "id": "386a572f",
   "metadata": {},
   "outputs": [
    {
     "name": "stdout",
     "output_type": "stream",
     "text": [
      "backbone.conv1.weight False\n",
      "backbone.bn1.weight False\n",
      "backbone.bn1.bias False\n",
      "backbone.layer1.0.conv1.weight False\n",
      "backbone.layer1.0.bn1.weight False\n",
      "backbone.layer1.0.bn1.bias False\n",
      "backbone.layer1.0.conv2.weight False\n",
      "backbone.layer1.0.bn2.weight False\n",
      "backbone.layer1.0.bn2.bias False\n",
      "backbone.layer1.0.conv3.weight False\n",
      "backbone.layer1.0.bn3.weight False\n",
      "backbone.layer1.0.bn3.bias False\n",
      "backbone.layer1.0.downsample.0.weight False\n",
      "backbone.layer1.0.downsample.1.weight False\n",
      "backbone.layer1.0.downsample.1.bias False\n",
      "backbone.layer1.1.conv1.weight False\n",
      "backbone.layer1.1.bn1.weight False\n",
      "backbone.layer1.1.bn1.bias False\n",
      "backbone.layer1.1.conv2.weight False\n",
      "backbone.layer1.1.bn2.weight False\n",
      "backbone.layer1.1.bn2.bias False\n",
      "backbone.layer1.1.conv3.weight False\n",
      "backbone.layer1.1.bn3.weight False\n",
      "backbone.layer1.1.bn3.bias False\n",
      "backbone.layer1.2.conv1.weight False\n",
      "backbone.layer1.2.bn1.weight False\n",
      "backbone.layer1.2.bn1.bias False\n",
      "backbone.layer1.2.conv2.weight False\n",
      "backbone.layer1.2.bn2.weight False\n",
      "backbone.layer1.2.bn2.bias False\n",
      "backbone.layer1.2.conv3.weight False\n",
      "backbone.layer1.2.bn3.weight False\n",
      "backbone.layer1.2.bn3.bias False\n",
      "backbone.layer2.0.conv1.weight False\n",
      "backbone.layer2.0.bn1.weight False\n",
      "backbone.layer2.0.bn1.bias False\n",
      "backbone.layer2.0.conv2.weight False\n",
      "backbone.layer2.0.bn2.weight False\n",
      "backbone.layer2.0.bn2.bias False\n",
      "backbone.layer2.0.conv3.weight False\n",
      "backbone.layer2.0.bn3.weight False\n",
      "backbone.layer2.0.bn3.bias False\n",
      "backbone.layer2.0.downsample.0.weight False\n",
      "backbone.layer2.0.downsample.1.weight False\n",
      "backbone.layer2.0.downsample.1.bias False\n",
      "backbone.layer2.1.conv1.weight False\n",
      "backbone.layer2.1.bn1.weight False\n",
      "backbone.layer2.1.bn1.bias False\n",
      "backbone.layer2.1.conv2.weight False\n",
      "backbone.layer2.1.bn2.weight False\n",
      "backbone.layer2.1.bn2.bias False\n",
      "backbone.layer2.1.conv3.weight False\n",
      "backbone.layer2.1.bn3.weight False\n",
      "backbone.layer2.1.bn3.bias False\n",
      "backbone.layer2.2.conv1.weight False\n",
      "backbone.layer2.2.bn1.weight False\n",
      "backbone.layer2.2.bn1.bias False\n",
      "backbone.layer2.2.conv2.weight False\n",
      "backbone.layer2.2.bn2.weight False\n",
      "backbone.layer2.2.bn2.bias False\n",
      "backbone.layer2.2.conv3.weight False\n",
      "backbone.layer2.2.bn3.weight False\n",
      "backbone.layer2.2.bn3.bias False\n",
      "backbone.layer2.3.conv1.weight False\n",
      "backbone.layer2.3.bn1.weight False\n",
      "backbone.layer2.3.bn1.bias False\n",
      "backbone.layer2.3.conv2.weight False\n",
      "backbone.layer2.3.bn2.weight False\n",
      "backbone.layer2.3.bn2.bias False\n",
      "backbone.layer2.3.conv3.weight False\n",
      "backbone.layer2.3.bn3.weight False\n",
      "backbone.layer2.3.bn3.bias False\n",
      "backbone.layer3.0.conv1.weight False\n",
      "backbone.layer3.0.bn1.weight False\n",
      "backbone.layer3.0.bn1.bias False\n",
      "backbone.layer3.0.conv2.weight False\n",
      "backbone.layer3.0.bn2.weight False\n",
      "backbone.layer3.0.bn2.bias False\n",
      "backbone.layer3.0.conv3.weight False\n",
      "backbone.layer3.0.bn3.weight False\n",
      "backbone.layer3.0.bn3.bias False\n",
      "backbone.layer3.0.downsample.0.weight False\n",
      "backbone.layer3.0.downsample.1.weight False\n",
      "backbone.layer3.0.downsample.1.bias False\n",
      "backbone.layer3.1.conv1.weight False\n",
      "backbone.layer3.1.bn1.weight False\n",
      "backbone.layer3.1.bn1.bias False\n",
      "backbone.layer3.1.conv2.weight False\n",
      "backbone.layer3.1.bn2.weight False\n",
      "backbone.layer3.1.bn2.bias False\n",
      "backbone.layer3.1.conv3.weight False\n",
      "backbone.layer3.1.bn3.weight False\n",
      "backbone.layer3.1.bn3.bias False\n",
      "backbone.layer3.2.conv1.weight False\n",
      "backbone.layer3.2.bn1.weight False\n",
      "backbone.layer3.2.bn1.bias False\n",
      "backbone.layer3.2.conv2.weight False\n",
      "backbone.layer3.2.bn2.weight False\n",
      "backbone.layer3.2.bn2.bias False\n",
      "backbone.layer3.2.conv3.weight False\n",
      "backbone.layer3.2.bn3.weight False\n",
      "backbone.layer3.2.bn3.bias False\n",
      "backbone.layer3.3.conv1.weight False\n",
      "backbone.layer3.3.bn1.weight False\n",
      "backbone.layer3.3.bn1.bias False\n",
      "backbone.layer3.3.conv2.weight False\n",
      "backbone.layer3.3.bn2.weight False\n",
      "backbone.layer3.3.bn2.bias False\n",
      "backbone.layer3.3.conv3.weight False\n",
      "backbone.layer3.3.bn3.weight False\n",
      "backbone.layer3.3.bn3.bias False\n",
      "backbone.layer3.4.conv1.weight False\n",
      "backbone.layer3.4.bn1.weight False\n",
      "backbone.layer3.4.bn1.bias False\n",
      "backbone.layer3.4.conv2.weight False\n",
      "backbone.layer3.4.bn2.weight False\n",
      "backbone.layer3.4.bn2.bias False\n",
      "backbone.layer3.4.conv3.weight False\n",
      "backbone.layer3.4.bn3.weight False\n",
      "backbone.layer3.4.bn3.bias False\n",
      "backbone.layer3.5.conv1.weight False\n",
      "backbone.layer3.5.bn1.weight False\n",
      "backbone.layer3.5.bn1.bias False\n",
      "backbone.layer3.5.conv2.weight False\n",
      "backbone.layer3.5.bn2.weight False\n",
      "backbone.layer3.5.bn2.bias False\n",
      "backbone.layer3.5.conv3.weight False\n",
      "backbone.layer3.5.bn3.weight False\n",
      "backbone.layer3.5.bn3.bias False\n",
      "backbone.layer4.0.conv1.weight False\n",
      "backbone.layer4.0.bn1.weight False\n",
      "backbone.layer4.0.bn1.bias False\n",
      "backbone.layer4.0.conv2.weight False\n",
      "backbone.layer4.0.bn2.weight False\n",
      "backbone.layer4.0.bn2.bias False\n",
      "backbone.layer4.0.conv3.weight False\n",
      "backbone.layer4.0.bn3.weight False\n",
      "backbone.layer4.0.bn3.bias False\n",
      "backbone.layer4.0.downsample.0.weight False\n",
      "backbone.layer4.0.downsample.1.weight False\n",
      "backbone.layer4.0.downsample.1.bias False\n",
      "backbone.layer4.1.conv1.weight False\n",
      "backbone.layer4.1.bn1.weight False\n",
      "backbone.layer4.1.bn1.bias False\n",
      "backbone.layer4.1.conv2.weight False\n",
      "backbone.layer4.1.bn2.weight False\n",
      "backbone.layer4.1.bn2.bias False\n",
      "backbone.layer4.1.conv3.weight False\n",
      "backbone.layer4.1.bn3.weight False\n",
      "backbone.layer4.1.bn3.bias False\n",
      "backbone.layer4.2.conv1.weight False\n",
      "backbone.layer4.2.bn1.weight False\n",
      "backbone.layer4.2.bn1.bias False\n",
      "backbone.layer4.2.conv2.weight False\n",
      "backbone.layer4.2.bn2.weight False\n",
      "backbone.layer4.2.bn2.bias False\n",
      "backbone.layer4.2.conv3.weight False\n",
      "backbone.layer4.2.bn3.weight False\n",
      "backbone.layer4.2.bn3.bias False\n",
      "classifier.0.weight False\n",
      "classifier.1.weight False\n",
      "classifier.1.bias False\n",
      "classifier.4.weight False\n",
      "classifier.4.bias False\n",
      "aux_classifier.0.weight False\n",
      "aux_classifier.1.weight False\n",
      "aux_classifier.1.bias False\n",
      "aux_classifier.4.weight False\n",
      "aux_classifier.4.bias False\n"
     ]
    }
   ],
   "source": [
    "for name, param in model_fR.named_parameters():\n",
    "    print(name, param.requires_grad)"
   ]
  },
  {
   "cell_type": "code",
   "execution_count": 231,
   "id": "d28253d1",
   "metadata": {},
   "outputs": [],
   "source": [
    "in_channels = model_fR.classifier[4].in_channels\n",
    "model_fR.classifier[4] = nn.Conv2d(512, 9, kernel_size=(1,1), stride=1) #here, we are predicting 9 labels for each pixel\n",
    "\n",
    "in_channels_aux = model_fR.aux_classifier[4].in_channels\n",
    "model_fR.aux_classifier[4] = nn.Conv2d(in_channels_aux, 9, kernel_size=(1,1), stride=1)"
   ]
  },
  {
   "cell_type": "code",
   "execution_count": 232,
   "id": "cbd3af9f",
   "metadata": {},
   "outputs": [
    {
     "name": "stdout",
     "output_type": "stream",
     "text": [
      "backbone.conv1.weight False\n",
      "backbone.bn1.weight False\n",
      "backbone.bn1.bias False\n",
      "backbone.layer1.0.conv1.weight False\n",
      "backbone.layer1.0.bn1.weight False\n",
      "backbone.layer1.0.bn1.bias False\n",
      "backbone.layer1.0.conv2.weight False\n",
      "backbone.layer1.0.bn2.weight False\n",
      "backbone.layer1.0.bn2.bias False\n",
      "backbone.layer1.0.conv3.weight False\n",
      "backbone.layer1.0.bn3.weight False\n",
      "backbone.layer1.0.bn3.bias False\n",
      "backbone.layer1.0.downsample.0.weight False\n",
      "backbone.layer1.0.downsample.1.weight False\n",
      "backbone.layer1.0.downsample.1.bias False\n",
      "backbone.layer1.1.conv1.weight False\n",
      "backbone.layer1.1.bn1.weight False\n",
      "backbone.layer1.1.bn1.bias False\n",
      "backbone.layer1.1.conv2.weight False\n",
      "backbone.layer1.1.bn2.weight False\n",
      "backbone.layer1.1.bn2.bias False\n",
      "backbone.layer1.1.conv3.weight False\n",
      "backbone.layer1.1.bn3.weight False\n",
      "backbone.layer1.1.bn3.bias False\n",
      "backbone.layer1.2.conv1.weight False\n",
      "backbone.layer1.2.bn1.weight False\n",
      "backbone.layer1.2.bn1.bias False\n",
      "backbone.layer1.2.conv2.weight False\n",
      "backbone.layer1.2.bn2.weight False\n",
      "backbone.layer1.2.bn2.bias False\n",
      "backbone.layer1.2.conv3.weight False\n",
      "backbone.layer1.2.bn3.weight False\n",
      "backbone.layer1.2.bn3.bias False\n",
      "backbone.layer2.0.conv1.weight False\n",
      "backbone.layer2.0.bn1.weight False\n",
      "backbone.layer2.0.bn1.bias False\n",
      "backbone.layer2.0.conv2.weight False\n",
      "backbone.layer2.0.bn2.weight False\n",
      "backbone.layer2.0.bn2.bias False\n",
      "backbone.layer2.0.conv3.weight False\n",
      "backbone.layer2.0.bn3.weight False\n",
      "backbone.layer2.0.bn3.bias False\n",
      "backbone.layer2.0.downsample.0.weight False\n",
      "backbone.layer2.0.downsample.1.weight False\n",
      "backbone.layer2.0.downsample.1.bias False\n",
      "backbone.layer2.1.conv1.weight False\n",
      "backbone.layer2.1.bn1.weight False\n",
      "backbone.layer2.1.bn1.bias False\n",
      "backbone.layer2.1.conv2.weight False\n",
      "backbone.layer2.1.bn2.weight False\n",
      "backbone.layer2.1.bn2.bias False\n",
      "backbone.layer2.1.conv3.weight False\n",
      "backbone.layer2.1.bn3.weight False\n",
      "backbone.layer2.1.bn3.bias False\n",
      "backbone.layer2.2.conv1.weight False\n",
      "backbone.layer2.2.bn1.weight False\n",
      "backbone.layer2.2.bn1.bias False\n",
      "backbone.layer2.2.conv2.weight False\n",
      "backbone.layer2.2.bn2.weight False\n",
      "backbone.layer2.2.bn2.bias False\n",
      "backbone.layer2.2.conv3.weight False\n",
      "backbone.layer2.2.bn3.weight False\n",
      "backbone.layer2.2.bn3.bias False\n",
      "backbone.layer2.3.conv1.weight False\n",
      "backbone.layer2.3.bn1.weight False\n",
      "backbone.layer2.3.bn1.bias False\n",
      "backbone.layer2.3.conv2.weight False\n",
      "backbone.layer2.3.bn2.weight False\n",
      "backbone.layer2.3.bn2.bias False\n",
      "backbone.layer2.3.conv3.weight False\n",
      "backbone.layer2.3.bn3.weight False\n",
      "backbone.layer2.3.bn3.bias False\n",
      "backbone.layer3.0.conv1.weight False\n",
      "backbone.layer3.0.bn1.weight False\n",
      "backbone.layer3.0.bn1.bias False\n",
      "backbone.layer3.0.conv2.weight False\n",
      "backbone.layer3.0.bn2.weight False\n",
      "backbone.layer3.0.bn2.bias False\n",
      "backbone.layer3.0.conv3.weight False\n",
      "backbone.layer3.0.bn3.weight False\n",
      "backbone.layer3.0.bn3.bias False\n",
      "backbone.layer3.0.downsample.0.weight False\n",
      "backbone.layer3.0.downsample.1.weight False\n",
      "backbone.layer3.0.downsample.1.bias False\n",
      "backbone.layer3.1.conv1.weight False\n",
      "backbone.layer3.1.bn1.weight False\n",
      "backbone.layer3.1.bn1.bias False\n",
      "backbone.layer3.1.conv2.weight False\n",
      "backbone.layer3.1.bn2.weight False\n",
      "backbone.layer3.1.bn2.bias False\n",
      "backbone.layer3.1.conv3.weight False\n",
      "backbone.layer3.1.bn3.weight False\n",
      "backbone.layer3.1.bn3.bias False\n",
      "backbone.layer3.2.conv1.weight False\n",
      "backbone.layer3.2.bn1.weight False\n",
      "backbone.layer3.2.bn1.bias False\n",
      "backbone.layer3.2.conv2.weight False\n",
      "backbone.layer3.2.bn2.weight False\n",
      "backbone.layer3.2.bn2.bias False\n",
      "backbone.layer3.2.conv3.weight False\n",
      "backbone.layer3.2.bn3.weight False\n",
      "backbone.layer3.2.bn3.bias False\n",
      "backbone.layer3.3.conv1.weight False\n",
      "backbone.layer3.3.bn1.weight False\n",
      "backbone.layer3.3.bn1.bias False\n",
      "backbone.layer3.3.conv2.weight False\n",
      "backbone.layer3.3.bn2.weight False\n",
      "backbone.layer3.3.bn2.bias False\n",
      "backbone.layer3.3.conv3.weight False\n",
      "backbone.layer3.3.bn3.weight False\n",
      "backbone.layer3.3.bn3.bias False\n",
      "backbone.layer3.4.conv1.weight False\n",
      "backbone.layer3.4.bn1.weight False\n",
      "backbone.layer3.4.bn1.bias False\n",
      "backbone.layer3.4.conv2.weight False\n",
      "backbone.layer3.4.bn2.weight False\n",
      "backbone.layer3.4.bn2.bias False\n",
      "backbone.layer3.4.conv3.weight False\n",
      "backbone.layer3.4.bn3.weight False\n",
      "backbone.layer3.4.bn3.bias False\n",
      "backbone.layer3.5.conv1.weight False\n",
      "backbone.layer3.5.bn1.weight False\n",
      "backbone.layer3.5.bn1.bias False\n",
      "backbone.layer3.5.conv2.weight False\n",
      "backbone.layer3.5.bn2.weight False\n",
      "backbone.layer3.5.bn2.bias False\n",
      "backbone.layer3.5.conv3.weight False\n",
      "backbone.layer3.5.bn3.weight False\n",
      "backbone.layer3.5.bn3.bias False\n",
      "backbone.layer4.0.conv1.weight False\n",
      "backbone.layer4.0.bn1.weight False\n",
      "backbone.layer4.0.bn1.bias False\n",
      "backbone.layer4.0.conv2.weight False\n",
      "backbone.layer4.0.bn2.weight False\n",
      "backbone.layer4.0.bn2.bias False\n",
      "backbone.layer4.0.conv3.weight False\n",
      "backbone.layer4.0.bn3.weight False\n",
      "backbone.layer4.0.bn3.bias False\n",
      "backbone.layer4.0.downsample.0.weight False\n",
      "backbone.layer4.0.downsample.1.weight False\n",
      "backbone.layer4.0.downsample.1.bias False\n",
      "backbone.layer4.1.conv1.weight False\n",
      "backbone.layer4.1.bn1.weight False\n",
      "backbone.layer4.1.bn1.bias False\n",
      "backbone.layer4.1.conv2.weight False\n",
      "backbone.layer4.1.bn2.weight False\n",
      "backbone.layer4.1.bn2.bias False\n",
      "backbone.layer4.1.conv3.weight False\n",
      "backbone.layer4.1.bn3.weight False\n",
      "backbone.layer4.1.bn3.bias False\n",
      "backbone.layer4.2.conv1.weight False\n",
      "backbone.layer4.2.bn1.weight False\n",
      "backbone.layer4.2.bn1.bias False\n",
      "backbone.layer4.2.conv2.weight False\n",
      "backbone.layer4.2.bn2.weight False\n",
      "backbone.layer4.2.bn2.bias False\n",
      "backbone.layer4.2.conv3.weight False\n",
      "backbone.layer4.2.bn3.weight False\n",
      "backbone.layer4.2.bn3.bias False\n",
      "classifier.0.weight False\n",
      "classifier.1.weight False\n",
      "classifier.1.bias False\n",
      "classifier.4.weight True\n",
      "classifier.4.bias True\n",
      "aux_classifier.0.weight False\n",
      "aux_classifier.1.weight False\n",
      "aux_classifier.1.bias False\n",
      "aux_classifier.4.weight True\n",
      "aux_classifier.4.bias True\n"
     ]
    }
   ],
   "source": [
    "for name, param in model_fR.named_parameters():\n",
    "    print(name, param.requires_grad)"
   ]
  },
  {
   "cell_type": "code",
   "execution_count": 233,
   "id": "d03c8b3c",
   "metadata": {},
   "outputs": [
    {
     "data": {
      "text/plain": [
       "torch.Size([9, 512, 1, 1])"
      ]
     },
     "execution_count": 233,
     "metadata": {},
     "output_type": "execute_result"
    }
   ],
   "source": [
    "model_fR.classifier[4].weight.shape"
   ]
  },
  {
   "cell_type": "code",
   "execution_count": 234,
   "id": "1c5914ca",
   "metadata": {},
   "outputs": [],
   "source": [
    "loss_fn = nn.CrossEntropyLoss()\n",
    "\n",
    "# Learning rate\n",
    "lr = 0.01\n",
    "epochs = 1\n",
    "momentum = 0.9\n",
    "weight_decay = 1e-8\n",
    "optimizer = torch.optim.SGD(model_fR.parameters(), lr=lr, momentum=momentum, weight_decay=weight_decay)"
   ]
  },
  {
   "cell_type": "code",
   "execution_count": 316,
   "id": "23af43e8",
   "metadata": {},
   "outputs": [
    {
     "data": {
      "image/png": "[encoded data removed]",
      "text/plain": [
       "<PIL.Image.Image image mode=RGB size=224x224 at 0x7FE2CFD6FCD0>"
      ]
     },
     "execution_count": 316,
     "metadata": {},
     "output_type": "execute_result"
    }
   ],
   "source": [
    "\"\"\"\"\"\n",
    "image_input = Image.open(train_images_path + str(image_index.iloc[1, 2]))\n",
    "input_image = image_input.convert(\"RGB\")\n",
    "input_image\n",
    "\"\"\"\"\""
   ]
  },
  {
   "cell_type": "code",
   "execution_count": 471,
   "id": "24e9351c",
   "metadata": {},
   "outputs": [
    {
     "data": {
      "text/plain": [
       "torch.Size([8, 9, 224, 224])"
      ]
     },
     "execution_count": 471,
     "metadata": {},
     "output_type": "execute_result"
    }
   ],
   "source": [
    "predictions = model_fR(img)['out']\n",
    "predictions.shape"
   ]
  },
  {
   "cell_type": "code",
   "execution_count": 472,
   "id": "3a81ac3d",
   "metadata": {},
   "outputs": [
    {
     "data": {
      "text/plain": [
       "torch.Size([8, 224, 224])"
      ]
     },
     "execution_count": 472,
     "metadata": {},
     "output_type": "execute_result"
    }
   ],
   "source": [
    "preds = predictions.argmax(1)\n",
    "preds.size()"
   ]
  },
  {
   "cell_type": "code",
   "execution_count": 473,
   "id": "8283792c",
   "metadata": {},
   "outputs": [
    {
     "data": {
      "text/plain": [
       "torch.Size([8, 224, 224])"
      ]
     },
     "execution_count": 473,
     "metadata": {},
     "output_type": "execute_result"
    }
   ],
   "source": [
    "lab.size()"
   ]
  },
  {
   "cell_type": "code",
   "execution_count": 444,
   "id": "22194d36",
   "metadata": {},
   "outputs": [],
   "source": [
    "#pred = predictions.argmax(1)\n",
    "#pred = pred.type(torch.FloatTensor)\n",
    "#lab = lab.type(torch.FloatTensor)"
   ]
  },
  {
   "cell_type": "code",
   "execution_count": 445,
   "id": "dd7509af",
   "metadata": {},
   "outputs": [
    {
     "data": {
      "text/plain": [
       "'\"\"\\nh, w = lab[0].size()\\ntarget = torch.zeros(9, h, w)\\nfor l in range(8): #batch_size=8\\n    lab_o = lab[l].long()\\n    for c in range(9):\\n        target[c][lab_o == c] = 1\\n'"
      ]
     },
     "execution_count": 445,
     "metadata": {},
     "output_type": "execute_result"
    }
   ],
   "source": [
    "\"\"\"\"\"\n",
    "h, w = lab[0].size()\n",
    "target = torch.zeros(9, h, w)\n",
    "for l in range(8): #batch_size=8\n",
    "    lab_o = lab[l].long()\n",
    "    for c in range(9):\n",
    "        target[c][lab_o == c] = 1\n",
    "\"\"\"\"\""
   ]
  },
  {
   "cell_type": "code",
   "execution_count": 450,
   "id": "74a6a9ca",
   "metadata": {},
   "outputs": [
    {
     "data": {
      "text/plain": [
       "torch.Size([9, 224, 224])"
      ]
     },
     "execution_count": 450,
     "metadata": {},
     "output_type": "execute_result"
    }
   ],
   "source": [
    "tar[0].shape"
   ]
  },
  {
   "cell_type": "code",
   "execution_count": 447,
   "id": "33c10633",
   "metadata": {},
   "outputs": [
    {
     "data": {
      "text/plain": [
       "torch.Size([9, 224, 224])"
      ]
     },
     "execution_count": 447,
     "metadata": {},
     "output_type": "execute_result"
    }
   ],
   "source": [
    "predictions.shape"
   ]
  },
  {
   "cell_type": "code",
   "execution_count": 455,
   "id": "1b47ea36",
   "metadata": {},
   "outputs": [
    {
     "data": {
      "text/plain": [
       "tensor(2.2622, grad_fn=<DivBackward1>)"
      ]
     },
     "execution_count": 455,
     "metadata": {},
     "output_type": "execute_result"
    }
   ],
   "source": [
    "loss = loss_fn(predictions, tar)\n",
    "loss"
   ]
  },
  {
   "cell_type": "code",
   "execution_count": 313,
   "id": "26456cfd",
   "metadata": {},
   "outputs": [
    {
     "data": {
      "text/plain": [
       "<matplotlib.image.AxesImage at 0x7fe29cf5ca00>"
      ]
     },
     "execution_count": 313,
     "metadata": {},
     "output_type": "execute_result"
    },
    {
     "data": {
      "image/png": "[encoded data removed]",
      "text/plain": [
       "<Figure size 432x288 with 1 Axes>"
      ]
     },
     "metadata": {
      "needs_background": "light"
     },
     "output_type": "display_data"
    }
   ],
   "source": [
    "# create a color pallette, selecting a color for each class---for 9 classes\n",
    "palette = torch.tensor([2 ** 25 - 1, 2 ** 15 - 1, 2 ** 21 - 1])\n",
    "colors = torch.as_tensor([i for i in range(9)])[:, None] * palette\n",
    "colors = (colors % 255).numpy().astype(\"uint8\")\n",
    "\n",
    "# plot the semantic segmentation predictions of 9 classes in each color\n",
    "r = Image.fromarray(pred.byte().cpu().numpy()).resize(input_image.size)\n",
    "r.putpalette(colors)\n",
    "\n",
    "import matplotlib.pyplot as plt\n",
    "plt.imshow(r)"
   ]
  },
  {
   "cell_type": "code",
   "execution_count": 296,
   "id": "70912b05",
   "metadata": {},
   "outputs": [
    {
     "data": {
      "text/plain": [
       "tensor(1376.4779)"
      ]
     },
     "execution_count": 296,
     "metadata": {},
     "output_type": "execute_result"
    }
   ],
   "source": [
    "loss = loss_fn(pred, lab)\n",
    "loss"
   ]
  },
  {
   "cell_type": "code",
   "execution_count": 465,
   "id": "98eaa103",
   "metadata": {},
   "outputs": [],
   "source": []
  },
  {
   "cell_type": "code",
   "execution_count": 476,
   "id": "6c9f47bc",
   "metadata": {},
   "outputs": [],
   "source": [
    "def iou(pred, target):\n",
    "    ious = []\n",
    "    for cls in range(9):\n",
    "        pred_inds = pred == cls\n",
    "        target_inds = target == cls\n",
    "        intersection = pred_inds[target_inds].sum()\n",
    "        union = pred_inds.sum() + target_inds.sum() - intersection\n",
    "        if union == 0:\n",
    "            ious.append(float('nan'))  # if there is no ground truth, do not include in evaluation\n",
    "        else:\n",
    "            ious.append(float(intersection) / max(union, 1))\n",
    "        # print(\"cls\", cls, pred_inds.sum(), target_inds.sum(), intersection, float(intersection) / max(union, 1))\n",
    "    return ious\n",
    "\n",
    "\n",
    "def pixel_acc(pred, target):\n",
    "    correct = (pred == target).sum()\n",
    "    total   = (target == target).sum()\n",
    "    return correct / total"
   ]
  },
  {
   "cell_type": "code",
   "execution_count": 495,
   "id": "963823c8",
   "metadata": {},
   "outputs": [
    {
     "name": "stderr",
     "output_type": "stream",
     "text": [
      "/var/folders/sg/y1f88xp10px2v7dq006_gh1r0000gn/T/ipykernel_4793/2847695827.py:48: RuntimeWarning: Mean of empty slice\n",
      "  ious = np.nanmean(total_ious_array, axis=1)\n"
     ]
    },
    {
     "name": "stdout",
     "output_type": "stream",
     "text": [
      "epoch: 0, pix_acc: 0.42574140429496765, meanIoU: 0.14529266953468323\n",
      "epoch: 1, pix_acc: 0.42970743775367737, meanIoU: 0.14692606776952744\n",
      "epoch: 2, pix_acc: 0.4282924234867096, meanIoU: 0.1463528871536255\n",
      "epoch: 3, pix_acc: 0.42629942297935486, meanIoU: 0.14553603529930115\n",
      "epoch: 4, pix_acc: 0.4204599857330322, meanIoU: 0.1431214138865471\n"
     ]
    }
   ],
   "source": [
    "model_fR.train()\n",
    "total_ious = []\n",
    "pixel_accs = []\n",
    "epoch_ious = []\n",
    "epoch_accs = []\n",
    "\n",
    "best_model_wts = copy.deepcopy(model_fR.state_dict())\n",
    "best_iou = 0.0\n",
    "\n",
    "for epoch in range(5): #number of epochs\n",
    "    total_ious.clear()\n",
    "    pixel_accs.clear()\n",
    "    for batch in iter(train_loader):\n",
    "        model_fR.zero_grad()\n",
    "        images, pixel_labels,target_labels, class_names = batch\n",
    "        predictions = model_fR(images)['out'] \n",
    "        #pred_labels = predictions.argmax(1)\n",
    "        #pred_labels = pred_labels.type(torch.FloatTensor)\n",
    "        #true_labels = pixel_labels.type(torch.FloatTensor)\n",
    "        loss = loss_fn(predictions, target_labels)\n",
    "        loss.backward()\n",
    "        optimizer.step()\n",
    "\n",
    "\n",
    "    \n",
    "    with torch.no_grad():\n",
    "        model_fR.eval()\n",
    "        for batch in iter(valid_loader):\n",
    "\n",
    "            images, pixel_labels,target_labels, class_names = batch\n",
    "\n",
    "            predictions = model_fR(images)['out']\n",
    "            prediction_labels = predictions.argmax(1)\n",
    "            \"\"\"\"\"\n",
    "            output = output.data.cpu().numpy()\n",
    "\n",
    "            N, _, h, w = output.shape\n",
    "            pred = output.transpose(0, 2, 3, 1).reshape(-1, n_class).argmax(axis=1).reshape(N, h, w)\n",
    "\n",
    "            target = batch['l'].cpu().numpy().reshape(N, h, w)\n",
    "            \"\"\"\"\"\n",
    "            for p, t in zip(prediction_labels, pixel_labels):\n",
    "                total_ious.append(iou(p, t))\n",
    "                pixel_accs.append(pixel_acc(p, t))\n",
    "\n",
    "        # Calculate average IoU\n",
    "        total_ious_array = np.array(total_ious).T  # n_class * val_len\n",
    "        ious = np.nanmean(total_ious_array, axis=1)\n",
    "        current_epoch_iou = np.nanmean(ious)\n",
    "        epoch_ious.append(current_epoch_iou)\n",
    "        pixel_accs_array = np.array(pixel_accs).mean()\n",
    "        epoch_accs.append(pixel_accs_array)\n",
    "        #print(\"epoch{}, pix_acc: {}, meanIoU: {}, IoUs: {}\".format(epoch, pixel_accs, np.nanmean(ious), ious))\n",
    "        print(\"epoch: {}, pix_acc: {}, meanIoU: {}\".format(epoch, pixel_accs_array, current_epoch_iou))\n",
    "        \n",
    "        # deep copy the model---saves the model which has highest IOU\n",
    "        if current_epoch_iou > best_iou: \n",
    "            best_iou = current_epoch_iou\n",
    "            best_model_wts = copy.deepcopy(model_fR.state_dict())\n",
    "        #IU_scores[epoch] = ious\n",
    "        #np.save(os.path.join(score_dir, \"meanIU\"), IU_scores)\n",
    "        #pixel_scores[epoch] = pixel_accs\n",
    "        #np.save(os.path.join(score_dir, \"meanPixel\"), pixel_scores)\n",
    "\n",
    "\n",
    "        # borrow functions and modify it from https://github.com/Kaixhin/FCN-semantic-segmentation/blob/master/main.py\n",
    "        # Calculates class intersections over unions\n"
   ]
  },
  {
   "cell_type": "code",
   "execution_count": 493,
   "id": "1688a09a",
   "metadata": {},
   "outputs": [
    {
     "name": "stdout",
     "output_type": "stream",
     "text": [
      "IOUs of all epochs:  [array([0.29463655, 0.15566546,        nan,        nan,        nan,\n",
      "       0.        , 0.        ,        nan,        nan]), array([0.27572662, 0.19623767,        nan,        nan,        nan,\n",
      "       0.        , 0.        ,        nan,        nan]), array([0.26795572, 0.2475552 ,        nan,        nan,        nan,\n",
      "       0.        , 0.        ,        nan,        nan]), array([0.27039504, 0.28213346,        nan,        nan,        nan,\n",
      "       0.        , 0.        ,        nan,        nan]), array([0.27441379, 0.30019358,        nan,        nan,        nan,\n",
      "       0.        , 0.        ,        nan,        nan])]\n",
      "Pixel accuracies of all epochs:  [0.35560825, 0.36260363, 0.38639987, 0.40842235, 0.42165577]\n"
     ]
    }
   ],
   "source": [
    "print(\"IOUs of all epochs: \", epoch_ious)\n",
    "print(\"Pixel accuracies of all epochs: \", epoch_accs)"
   ]
  },
  {
   "cell_type": "code",
   "execution_count": null,
   "id": "47895612",
   "metadata": {},
   "outputs": [],
   "source": [
    "model_path = \"/Users/rajendrakumarvechalapu/Desktop/DL_2022/FP_Fine_Tuned_Model/\""
   ]
  },
  {
   "cell_type": "code",
   "execution_count": null,
   "id": "5b995d42",
   "metadata": {},
   "outputs": [],
   "source": [
    "torch.save(best_model_wts, \"/Users/rajendrakumarvechalapu/Desktop/DL_2022/FP_Fine_Tuned_Model/\")"
   ]
  },
  {
   "cell_type": "code",
   "execution_count": null,
   "id": "c0dde797",
   "metadata": {},
   "outputs": [],
   "source": [
    "#model = TheModelClass(*args, **kwargs)\n",
    "model.load_state_dict(torch.load(\"/Users/rajendrakumarvechalapu/Desktop/DL_2022/FP_Fine_Tuned_Model/\"))\n",
    "model.eval()"
   ]
  }
 ],
 "metadata": {
  "kernelspec": {
   "display_name": "Python 3 (ipykernel)",
   "language": "python",
   "name": "python3"
  },
  "language_info": {
   "codemirror_mode": {
    "name": "ipython",
    "version": 3
   },
   "file_extension": ".py",
   "mimetype": "text/x-python",
   "name": "python",
   "nbconvert_exporter": "python",
   "pygments_lexer": "ipython3",
   "version": "3.9.7"
  }
 },
 "nbformat": 4,
 "nbformat_minor": 5
}
